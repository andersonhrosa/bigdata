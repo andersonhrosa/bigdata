{
  "cells": [
    {
      "cell_type": "markdown",
      "metadata": {
        "id": "view-in-github",
        "colab_type": "text"
      },
      "source": [
        "<a href=\"https://colab.research.google.com/github/andersonhrosa/bigdata/blob/main/AtividadeSpark_colab.ipynb\" target=\"_parent\"><img src=\"https://colab.research.google.com/assets/colab-badge.svg\" alt=\"Open In Colab\"/></a>"
      ]
    },
    {
      "cell_type": "markdown",
      "metadata": {
        "id": "wAyIvfaaEdJd"
      },
      "source": [
        "# Atividade Spark\n",
        "\n",
        "Considerando o dataset detalhado a seguir, extraia o conjunto de informações solicitadas.\n",
        "\n",
        "### Dataset dados de COVID no Brasil\n",
        "\n",
        "- Dados relativos a pacientes que realizaram exames de Covid19 no Brasil ate Marco 2020\n",
        "- ~1.6GB\n",
        "- 4.4M de instâncias\n",
        "\n",
        "\n",
        "|  # | Nome do campo        \t| Descrição                                     \t|\n",
        "|----|----------------------\t|-----------------------------------------------\t|\n",
        "|  0 | id                   \t| identificador                                 \t|\n",
        "|  1 | dataNotificacao      \t| Data da notificação                           \t|\n",
        "|  2 | dataInicioSintomas   \t| Data do inicio dos sintomas                   \t|\n",
        "|  3 | dataNascimento       \t| Data de nascimento                            \t|\n",
        "|  4 | sintomas             \t| Sintomas do paciente                          \t|\n",
        "|  5 | profissionalSaude    \t| Relacionado a profissional de saúde           \t|\n",
        "|  6 | cbo                  \t| Ocupação                                      \t|\n",
        "|  7 | condicoes            \t| Condições do paciente                         \t|\n",
        "|  8 | estadoTeste          \t| Estado do teste                               \t|\n",
        "|  9 | dataTeste            \t| Data do teste                                 \t|\n",
        "| 10 | tipoTeste            \t| Tipo de teste realizado                       \t|\n",
        "| 11 | resultadoTeste       \t| Resultado do Teste                            \t|\n",
        "| 12 | paisOrigem           \t| Pais de Origem do paciente                    \t|\n",
        "| 13 | sexo                 \t| Sexo do paciente                              \t|\n",
        "| 14 | bairro               \t| Bairro do paciente                            \t|\n",
        "| 15 | estado               \t| Estado do paciente                            \t|\n",
        "| 16 | estadoIBGE              \t| Estado do paciente IBGE                          \t|\n",
        "| 17 | municipio            \t| Municipio do paciente                         \t|\n",
        "| 18 | municipioIBGE          \t| Municipio do paciente                         \t|\n",
        "| 19 | cep            \t        | CEP                                            \t|\n",
        "| 20 | origem               \t| Origem do paciente                            \t|\n",
        "| 21 | cnes                 \t| Código da unidade de saúde                    \t|\n",
        "| 22 | estadoNotificacao    \t| Estado da notificação                         \t|\n",
        "| 23 | estadoNotificacaoIBGE    | Estado da notificação IBGE                      \t|\n",
        "| 24 | municipioNotificacao \t| Município da notificação                      \t|\n",
        "| 25 | municipioNotificacaoIBGE | Município da notificação IBGE                    \t|\n",
        "| 26 | numeroNotificacao    \t| Número da notificação                         \t|\n",
        "| 27 | excluido             \t| ID de exclusão                                \t|\n",
        "| 28 | validado             \t| Local validação                               \t|\n",
        "| 29 | idade                \t| Idade do paciente                             \t|\n",
        "| 30 | dataEncerramento     \t| Data do encerramento da avaliação do paciente \t|\n",
        "| 31 | evolucaoCaso         \t| Evolução do caso do paciente                  \t|\n",
        "| 32 | classificacaoFinal   \t| Avaliação final do caso                       \t|\n",
        "\n",
        "Informações a serem extraídas:\n",
        "\n",
        "1. Quantidade de pacientes positivos para corona virus (resultadoTeste)\n",
        "2. Quantidade de pacientes do sexo feminino positivos para corona virus (resultadoTeste)\n",
        "3. Quantidade de pacientes de acordo com o sexo e o resultado do teste (resultadoTeste)\n",
        "4. Sintomas mais comuns para casos positivos para corona virus\n",
        "5. Sintomas mais comuns para casos não positivos para corona virus\n",
        "6. Quantidade de casos positivos no Paraná\n",
        "7. Municipio do Paraná com a maior quantidade de óbitos (evolucaoCaso)\n",
        "8. Quantidade de municipios no Paraná com casos positivos\n",
        "9. Quantidade de municipios no Paraná sem casos positivos\n",
        "10. Estado com a maior taxa de falecimento de mulheres\n",
        "11. Menor idade de mulher positiva para covid\n",
        "12. Maior idade de mulher positiva para covid\n",
        "13. Quantidade de casos positivos, em granularidade diária, ao longo do tempo\n",
        "14. Quantidade de casos positivos, em granularidade semanal, ao longo do tempo\n",
        "15. Quantidade de pacientes que faleceram (evolucaoCaso) separados pela idade\n",
        "16. Taxa de óbito (evolucaoCaso) por idade\n",
        "17. Idade média das mulheres positivas para covid\n",
        "18. Município do Paraná com a maior quantidade de mulheres positivos para covid\n",
        "19. Dia da semana com a maior quantidade de testes realizados\n",
        "20. Dia da semana com maior quantidade de pacientes positivos para corona virus\n",
        "21. Municipio, com mais de 500 testes, com a maior taxa de exames que não foram positivos para COVID (casos que foram testados porém não tiveram o resultadoTeste como Positivo)\n",
        "\n",
        "**Dicas:**\n",
        "- *Crie uma célula (Insert -> Insert Cell Below) para cada informação solicitada*"
      ]
    },
    {
      "cell_type": "code",
      "source": [],
      "metadata": {
        "id": "MOzkKQYcOL9g"
      },
      "execution_count": null,
      "outputs": []
    },
    {
      "cell_type": "code",
      "source": [
        "#instala pyspark no google colab\n",
        "!pip install pyspark==3.3.1"
      ],
      "metadata": {
        "id": "8_yyegCRE4YG",
        "colab": {
          "base_uri": "https://localhost:8080/"
        },
        "outputId": "4c89173f-aa4d-4270-e481-f01d54594f14"
      },
      "execution_count": null,
      "outputs": [
        {
          "output_type": "stream",
          "name": "stdout",
          "text": [
            "Collecting pyspark==3.3.1\n",
            "  Downloading pyspark-3.3.1.tar.gz (281.4 MB)\n",
            "\u001b[2K     \u001b[90m━━━━━━━━━━━━━━━━━━━━━━━━━━━━━━━━━━━━━━━\u001b[0m \u001b[32m281.4/281.4 MB\u001b[0m \u001b[31m2.2 MB/s\u001b[0m eta \u001b[36m0:00:00\u001b[0m\n",
            "\u001b[?25h  Preparing metadata (setup.py) ... \u001b[?25l\u001b[?25hdone\n",
            "Collecting py4j==0.10.9.5 (from pyspark==3.3.1)\n",
            "  Downloading py4j-0.10.9.5-py2.py3-none-any.whl (199 kB)\n",
            "\u001b[2K     \u001b[90m━━━━━━━━━━━━━━━━━━━━━━━━━━━━━━━━━━━━━━\u001b[0m \u001b[32m199.7/199.7 kB\u001b[0m \u001b[31m14.0 MB/s\u001b[0m eta \u001b[36m0:00:00\u001b[0m\n",
            "\u001b[?25hBuilding wheels for collected packages: pyspark\n",
            "  Building wheel for pyspark (setup.py) ... \u001b[?25l\u001b[?25hdone\n",
            "  Created wheel for pyspark: filename=pyspark-3.3.1-py2.py3-none-any.whl size=281845498 sha256=5d06d0b250a10643841e9b81b1ebb0c2204c85dc356eb4cfb49cbcae0f109b82\n",
            "  Stored in directory: /root/.cache/pip/wheels/0f/f0/3d/517368b8ce80486e84f89f214e0a022554e4ee64969f46279b\n",
            "Successfully built pyspark\n",
            "Installing collected packages: py4j, pyspark\n",
            "  Attempting uninstall: py4j\n",
            "    Found existing installation: py4j 0.10.9.7\n",
            "    Uninstalling py4j-0.10.9.7:\n",
            "      Successfully uninstalled py4j-0.10.9.7\n",
            "Successfully installed py4j-0.10.9.5 pyspark-3.3.1\n"
          ]
        }
      ]
    },
    {
      "cell_type": "code",
      "execution_count": null,
      "metadata": {
        "id": "5oa0PA69EdJf"
      },
      "outputs": [],
      "source": [
        "# abre sessão no spark\n",
        "import pyspark\n",
        "conf = pyspark.SparkConf()\n",
        "conf.setMaster('local[*]')\n",
        "sc = pyspark.SparkContext.getOrCreate(conf)"
      ]
    },
    {
      "cell_type": "code",
      "source": [
        "#Efetua download do arquivo covid\n",
        "!gdown 1EYMih3Ys1-DmaIZ9n0Sl5KAcRGqtpuj9"
      ],
      "metadata": {
        "id": "dsLk2QFUE8cn",
        "colab": {
          "base_uri": "https://localhost:8080/"
        },
        "outputId": "133f7230-cf70-4104-c743-10c0dd8de73c"
      },
      "execution_count": null,
      "outputs": [
        {
          "output_type": "stream",
          "name": "stdout",
          "text": [
            "Downloading...\n",
            "From: https://drive.google.com/uc?id=1EYMih3Ys1-DmaIZ9n0Sl5KAcRGqtpuj9\n",
            "To: /content/covid.csv\n",
            "100% 1.64G/1.64G [00:12<00:00, 128MB/s]\n"
          ]
        }
      ]
    },
    {
      "cell_type": "code",
      "source": [
        "#carrega arquivo da COVID em um rdd\n",
        "rdd = sc.textFile('file:////content/covid.csv')"
      ],
      "metadata": {
        "id": "WAohEGP2E9CO"
      },
      "execution_count": null,
      "outputs": []
    },
    {
      "cell_type": "code",
      "source": [
        "rdd.take(5)"
      ],
      "metadata": {
        "id": "BWMbSmQ5Fgw1",
        "colab": {
          "base_uri": "https://localhost:8080/"
        },
        "outputId": "c5977732-8f2f-4f20-bf49-bdba4ffbb860"
      },
      "execution_count": null,
      "outputs": [
        {
          "output_type": "execute_result",
          "data": {
            "text/plain": [
              "['id;dataNotificacao;dataInicioSintomas;dataNascimento;sintomas;profissionalSaude;cbo;condicoes;estadoTeste;dataTeste;tipoTeste;resultadoTeste;paisOrigem;sexo;bairro;estado;estadoIBGE;municipio;municipioIBGE;cep;origem;cnes;estadoNotificacao;estadoNotificacaoIBGE;municipioNotificacao;municipioNotificacaoIBGE;numeroNotificacao;excluido;validado;idade;dataEncerramento;evolucaoCaso;classificacaoFinal',\n",
              " 'q2ggiMBd6V;2020-03-20T05:00:00.000Z;2020-03-13T05:00:00.000Z;1999-04-26T05:00:00.000Z;Dor de Garganta;Não;null;null;Concluído;2020-03-20T05:00:00.000Z;RT-PCR;Negativo;undefined;Masculino;VARZEA;MINAS GERAIS;31;Brumadinho;3109006;69980;undefined;undefined;ACRE;12;Rio Branco;1200401;122000006949;undefined;undefined;21;\"\";\"\";Descartado',\n",
              " 'rBR15eblo5;2020-04-26T16:18:17.903Z;2020-04-20T05:00:00.000Z;1949-10-02T05:00:00.000Z;Dispneia, Outros, Dor de Garganta;Não;null;Doenças cardíacas crônicas;Coletado;2020-04-26T05:00:00.000Z;null;null;undefined;Masculino;PINHAES;PARANÁ;41;Curitiba;4106902;\"\";undefined;2001578;ACRE;12;Rio Branco;1200401;122000440106;undefined;undefined;70;\"\";\"\";\"\"',\n",
              " 'LIHk9fcRnc;2020-05-06T21:45:48.250Z;2020-04-30T03:00:00.000Z;1964-05-22T03:00:00.000Z;Outros;Não;null;null;Concluído;2020-04-30T03:00:00.000Z;RT-PCR;Positivo;undefined;Masculino;null;RIO DE JANEIRO;33;Rio de Janeiro;3304557;\"\";undefined;undefined;ACRE;12;Capixaba;1200179;122000773736;undefined;undefined;56;\"\";\"\";\"\"',\n",
              " '57PiIRHMJB;2020-05-08T03:00:00.000Z;2020-04-21T03:00:00.000Z;1981-12-02T03:00:00.000Z;Dispneia, Febre, Tosse;Não;null;null;Coletado;2020-05-07T03:00:00.000Z;null;null;undefined;Masculino;jd horatório;SÃO PAULO;35;Mauá;3529401;09380;undefined;undefined;ACRE;12;Brasiléia;1200104;122000838820;undefined;undefined;38;\"\";\"\";\"\"']"
            ]
          },
          "metadata": {},
          "execution_count": 5
        }
      ]
    },
    {
      "cell_type": "code",
      "source": [
        "def pegaSexo(linha):\n",
        "  campos = linha.split(';')\n",
        "  return campos[13]"
      ],
      "metadata": {
        "id": "9Ys6WecLFge6"
      },
      "execution_count": null,
      "outputs": []
    },
    {
      "cell_type": "code",
      "source": [
        "rdd.map(pegaSexo).take(5)"
      ],
      "metadata": {
        "id": "O6hHt5tDFfp1",
        "colab": {
          "base_uri": "https://localhost:8080/"
        },
        "outputId": "9b3069b3-b77c-4c27-cc6e-d330613d0116"
      },
      "execution_count": null,
      "outputs": [
        {
          "output_type": "execute_result",
          "data": {
            "text/plain": [
              "['sexo', 'Masculino', 'Masculino', 'Masculino', 'Masculino']"
            ]
          },
          "metadata": {},
          "execution_count": 11
        }
      ]
    },
    {
      "cell_type": "code",
      "source": [
        "def geraChaveValor(sexo):\n",
        "  return [sexo, 1]"
      ],
      "metadata": {
        "id": "evYo-k5R0SWK"
      },
      "execution_count": null,
      "outputs": []
    },
    {
      "cell_type": "code",
      "source": [
        "rdd.map(pegaSexo).map(geraChaveValor).take(5)"
      ],
      "metadata": {
        "colab": {
          "base_uri": "https://localhost:8080/"
        },
        "id": "yFfpUxjf0kK6",
        "outputId": "9619a904-c995-4646-a161-fb5b143cbc24"
      },
      "execution_count": null,
      "outputs": [
        {
          "output_type": "execute_result",
          "data": {
            "text/plain": [
              "[['sexo', 1],\n",
              " ['Masculino', 1],\n",
              " ['Masculino', 1],\n",
              " ['Masculino', 1],\n",
              " ['Masculino', 1]]"
            ]
          },
          "metadata": {},
          "execution_count": 13
        }
      ]
    },
    {
      "cell_type": "code",
      "source": [
        "def somaValores(a,b):\n",
        "  return a + b"
      ],
      "metadata": {
        "id": "QOEp3GHt2trW"
      },
      "execution_count": null,
      "outputs": []
    },
    {
      "cell_type": "code",
      "source": [
        "rdd.map(pegaSexo).map(geraChaveValor).reduceByKey(somaValores).take(5)"
      ],
      "metadata": {
        "colab": {
          "base_uri": "https://localhost:8080/"
        },
        "id": "QuHY42n32-If",
        "outputId": "8006e58a-d7da-44ba-a9ef-4f9193f3fb77"
      },
      "execution_count": null,
      "outputs": [
        {
          "output_type": "execute_result",
          "data": {
            "text/plain": [
              "[('Feminino', 2322760),\n",
              " ('null', 506),\n",
              " ('Indefinido', 107295),\n",
              " ('sexo', 1),\n",
              " ('Masculino', 1994043)]"
            ]
          },
          "metadata": {},
          "execution_count": 15
        }
      ]
    },
    {
      "cell_type": "code",
      "source": [
        "def removePouco(entrada):\n",
        "  return entrada[1] > 200000"
      ],
      "metadata": {
        "id": "rtAh9iMq2-RC"
      },
      "execution_count": null,
      "outputs": []
    },
    {
      "cell_type": "code",
      "source": [
        "rdd.map(pegaSexo).map(geraChaveValor).reduceByKey(somaValores).filter(removePouco).take(5)"
      ],
      "metadata": {
        "colab": {
          "base_uri": "https://localhost:8080/"
        },
        "id": "o_sMt4i12-VZ",
        "outputId": "9b794f89-03e2-495b-ff2a-0f0a3a797f7f"
      },
      "execution_count": null,
      "outputs": [
        {
          "output_type": "execute_result",
          "data": {
            "text/plain": [
              "[('Feminino', 2322760), ('Masculino', 1994043)]"
            ]
          },
          "metadata": {},
          "execution_count": 18
        }
      ]
    },
    {
      "cell_type": "code",
      "source": [],
      "metadata": {
        "id": "412LAso22-Zq"
      },
      "execution_count": null,
      "outputs": []
    },
    {
      "cell_type": "code",
      "execution_count": null,
      "metadata": {
        "id": "y-6j-VzxEdJg"
      },
      "outputs": [],
      "source": [
        "#informacao 1 - Quantidade de pacientes positivos para corona virus (resultadoTeste)\n",
        "def pegaResultado(linha):\n",
        "  campos = linha.split(';')\n",
        "  return campos[11]\n",
        "\n",
        "def geraChaveValor(key):\n",
        "  return [key, 1]\n",
        "\n",
        "def pegaPositivo(res):\n",
        "  return res[0] == \"Positivo\"\n"
      ]
    },
    {
      "cell_type": "code",
      "source": [
        "rdd.map(pegaResultado).map(geraChaveValor).reduceByKey(somaValores).filter(pegaPositivo).take(5)"
      ],
      "metadata": {
        "id": "iI12DL8aFhNU",
        "colab": {
          "base_uri": "https://localhost:8080/"
        },
        "outputId": "5bc608ef-896f-4093-d8de-8bd79c1d5c6d"
      },
      "execution_count": null,
      "outputs": [
        {
          "output_type": "execute_result",
          "data": {
            "text/plain": [
              "[('Positivo', 1230210)]"
            ]
          },
          "metadata": {},
          "execution_count": 40
        }
      ]
    },
    {
      "cell_type": "code",
      "execution_count": null,
      "metadata": {
        "id": "c39VCGGuEdJg"
      },
      "outputs": [],
      "source": [
        "#informacao 2 - Quantidade de pacientes do sexo feminino positivos para corona virus (resultadoTeste)\n",
        "def split_row(row):\n",
        "    return row.split(\";\")\n",
        "\n",
        "def pacientes_positivos(row):\n",
        "    return row[11] == \"Positivo\"\n",
        "\n",
        "def pacientes_femininos(row):\n",
        "    return row[13] == \"Feminino\""
      ]
    },
    {
      "cell_type": "code",
      "source": [
        "rdd.map(split_row).filter(pacientes_positivos).filter(pacientes_femininos).count()"
      ],
      "metadata": {
        "id": "-_V4lEqGFhhX",
        "colab": {
          "base_uri": "https://localhost:8080/"
        },
        "outputId": "f37b4ebe-b52e-4e57-b325-f31297b7898d"
      },
      "execution_count": null,
      "outputs": [
        {
          "output_type": "execute_result",
          "data": {
            "text/plain": [
              "632899"
            ]
          },
          "metadata": {},
          "execution_count": 56
        }
      ]
    },
    {
      "cell_type": "code",
      "execution_count": null,
      "metadata": {
        "id": "gAxnz6KtEdJg"
      },
      "outputs": [],
      "source": [
        "#informacao 3\n"
      ]
    },
    {
      "cell_type": "code",
      "source": [],
      "metadata": {
        "id": "Fxw62ebPFh6W"
      },
      "execution_count": null,
      "outputs": []
    },
    {
      "cell_type": "code",
      "execution_count": null,
      "metadata": {
        "id": "-tfKdf8lEdJg"
      },
      "outputs": [],
      "source": [
        "#informacao 4\n"
      ]
    },
    {
      "cell_type": "code",
      "source": [],
      "metadata": {
        "id": "MpxcM41WFiNU"
      },
      "execution_count": null,
      "outputs": []
    },
    {
      "cell_type": "code",
      "execution_count": null,
      "metadata": {
        "id": "_Pg5i0w5EdJg"
      },
      "outputs": [],
      "source": [
        "#informacao 5\n"
      ]
    },
    {
      "cell_type": "code",
      "source": [],
      "metadata": {
        "id": "Lkmv6LV9Fim9"
      },
      "execution_count": null,
      "outputs": []
    },
    {
      "cell_type": "code",
      "execution_count": null,
      "metadata": {
        "id": "pLmEO2EnEdJg"
      },
      "outputs": [],
      "source": [
        "#informacao 6\n"
      ]
    },
    {
      "cell_type": "code",
      "source": [],
      "metadata": {
        "id": "RHcCOe6XFizS"
      },
      "execution_count": null,
      "outputs": []
    },
    {
      "cell_type": "code",
      "execution_count": null,
      "metadata": {
        "id": "J9Tj1b1dEdJg"
      },
      "outputs": [],
      "source": [
        "#informacao 7\n"
      ]
    },
    {
      "cell_type": "code",
      "source": [],
      "metadata": {
        "id": "urN6jLETFjJx"
      },
      "execution_count": null,
      "outputs": []
    },
    {
      "cell_type": "code",
      "execution_count": null,
      "metadata": {
        "id": "_mJDcscmEdJh"
      },
      "outputs": [],
      "source": [
        "#informacao 8\n"
      ]
    },
    {
      "cell_type": "code",
      "source": [],
      "metadata": {
        "id": "yIxFL5TGFjVu"
      },
      "execution_count": null,
      "outputs": []
    },
    {
      "cell_type": "code",
      "execution_count": null,
      "metadata": {
        "id": "5MzFvirgEdJh"
      },
      "outputs": [],
      "source": [
        "#informacao 9\n"
      ]
    },
    {
      "cell_type": "code",
      "source": [],
      "metadata": {
        "id": "AHM6JnS5Fjq2"
      },
      "execution_count": null,
      "outputs": []
    },
    {
      "cell_type": "code",
      "execution_count": null,
      "metadata": {
        "id": "X_DOjqudEdJh"
      },
      "outputs": [],
      "source": [
        "#informacao 10\n"
      ]
    },
    {
      "cell_type": "code",
      "source": [],
      "metadata": {
        "id": "IUrSXeK0FkNR"
      },
      "execution_count": null,
      "outputs": []
    },
    {
      "cell_type": "code",
      "execution_count": null,
      "metadata": {
        "id": "tdSti370EdJh"
      },
      "outputs": [],
      "source": [
        "#informacao 11\n"
      ]
    },
    {
      "cell_type": "code",
      "source": [],
      "metadata": {
        "id": "JkXMcMvjFkgn"
      },
      "execution_count": null,
      "outputs": []
    },
    {
      "cell_type": "code",
      "execution_count": null,
      "metadata": {
        "id": "hA43YWXWEdJh"
      },
      "outputs": [],
      "source": [
        "#informacao 12\n"
      ]
    },
    {
      "cell_type": "code",
      "source": [],
      "metadata": {
        "id": "iYYdZaGpFkwy"
      },
      "execution_count": null,
      "outputs": []
    },
    {
      "cell_type": "code",
      "execution_count": null,
      "metadata": {
        "id": "uvkLha0CEdJh"
      },
      "outputs": [],
      "source": [
        "#informacao 13\n"
      ]
    },
    {
      "cell_type": "code",
      "source": [],
      "metadata": {
        "id": "mQCeV8ymFlG7"
      },
      "execution_count": null,
      "outputs": []
    },
    {
      "cell_type": "code",
      "execution_count": null,
      "metadata": {
        "id": "egPwzuMfEdJh"
      },
      "outputs": [],
      "source": [
        "#informacao 14\n"
      ]
    },
    {
      "cell_type": "code",
      "source": [],
      "metadata": {
        "id": "_Z8Ye120FlXe"
      },
      "execution_count": null,
      "outputs": []
    },
    {
      "cell_type": "code",
      "execution_count": null,
      "metadata": {
        "id": "eQ9nVlqVEdJh"
      },
      "outputs": [],
      "source": [
        "#informacao 15\n"
      ]
    },
    {
      "cell_type": "code",
      "source": [],
      "metadata": {
        "id": "NWSnQpf3Flmk"
      },
      "execution_count": null,
      "outputs": []
    },
    {
      "cell_type": "code",
      "execution_count": null,
      "metadata": {
        "id": "VqThUoisEdJh"
      },
      "outputs": [],
      "source": [
        "#informacao 16\n"
      ]
    },
    {
      "cell_type": "code",
      "source": [],
      "metadata": {
        "id": "solZFx95Fl1s"
      },
      "execution_count": null,
      "outputs": []
    },
    {
      "cell_type": "code",
      "execution_count": null,
      "metadata": {
        "id": "j6vwg5UiEdJi"
      },
      "outputs": [],
      "source": [
        "#informacao 17\n"
      ]
    },
    {
      "cell_type": "code",
      "source": [],
      "metadata": {
        "id": "EREh4QZWFmRf"
      },
      "execution_count": null,
      "outputs": []
    },
    {
      "cell_type": "code",
      "execution_count": null,
      "metadata": {
        "id": "Ph-iqND0EdJi"
      },
      "outputs": [],
      "source": [
        "#informacao 18\n"
      ]
    },
    {
      "cell_type": "code",
      "source": [],
      "metadata": {
        "id": "rjpRMJhIFmpw"
      },
      "execution_count": null,
      "outputs": []
    },
    {
      "cell_type": "code",
      "execution_count": null,
      "metadata": {
        "id": "qYTxR1LfEdJi"
      },
      "outputs": [],
      "source": [
        "#informacao 19\n"
      ]
    },
    {
      "cell_type": "code",
      "source": [],
      "metadata": {
        "id": "5kCxb_GqFnBo"
      },
      "execution_count": null,
      "outputs": []
    },
    {
      "cell_type": "code",
      "execution_count": null,
      "metadata": {
        "id": "FAwKh9vMEdJi"
      },
      "outputs": [],
      "source": [
        "#informacao 20\n"
      ]
    },
    {
      "cell_type": "code",
      "source": [],
      "metadata": {
        "id": "uXZSquGmFnvV"
      },
      "execution_count": null,
      "outputs": []
    },
    {
      "cell_type": "code",
      "execution_count": null,
      "metadata": {
        "id": "dR9HrH0HEdJi"
      },
      "outputs": [],
      "source": [
        "#informacao 21\n"
      ]
    },
    {
      "cell_type": "code",
      "source": [],
      "metadata": {
        "id": "C2_droiMFnlI"
      },
      "execution_count": null,
      "outputs": []
    }
  ],
  "metadata": {
    "kernelspec": {
      "display_name": "Python 3",
      "language": "python",
      "name": "python3"
    },
    "language_info": {
      "codemirror_mode": {
        "name": "ipython",
        "version": 3
      },
      "file_extension": ".py",
      "mimetype": "text/x-python",
      "name": "python",
      "nbconvert_exporter": "python",
      "pygments_lexer": "ipython3",
      "version": "3.7.6"
    },
    "colab": {
      "provenance": [],
      "include_colab_link": true
    }
  },
  "nbformat": 4,
  "nbformat_minor": 0
}